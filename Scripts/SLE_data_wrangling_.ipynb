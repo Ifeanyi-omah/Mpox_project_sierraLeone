{
 "cells": [
  {
   "cell_type": "code",
   "execution_count": 7,
   "id": "e021b771-4b60-4183-bc28-01bd54d9e195",
   "metadata": {},
   "outputs": [
    {
     "name": "stdout",
     "output_type": "stream",
     "text": [
      "Wrote 5 records to ./Downloads/output/1mpox_aligned_annotated.fa\n"
     ]
    }
   ],
   "source": [
    "\n",
    "import pandas as pd\n",
    "from Bio import SeqIO\n",
    "\n",
    "# 1) load your TSV into a dict\n",
    "tsv = pd.read_csv(\"./Downloads/output/SL_MPOX_Metadata_140725.csv\", sep=\",\", dtype=str)\n",
    "meta = {\n",
    "    row[\"accessionVersion\"]: (row[\"geoLocAdmin1\"], row[\"geoLocCountry\"], row[\"sampleCollectionDate\"])\n",
    "    for _, row in tsv.iterrows()\n",
    "}\n",
    "\n",
    "# 2) read your input FASTA and update headers\n",
    "in_fasta  = \"./Downloads/output/mpox_aligned-nuc_2025-07-13T1413.fasta\"\n",
    "out_fasta = \"./Downloads/output/1mpox_aligned_annotated.fa\"\n",
    "\n",
    "records = []\n",
    "for rec in SeqIO.parse(in_fasta, \"fasta\"):\n",
    "    acc = rec.id  # e.g. \"PP_002XKR1.1\"\n",
    "    if acc in meta:\n",
    "        admin1, country, date = meta[acc]\n",
    "        # set description to just the three fields, pipe-separated\n",
    "        rec.description = f\"|{admin1}|{country}|{date}\"\n",
    "    # else rec.description stays as it was (or blank)\n",
    "    records.append(rec)\n",
    "\n",
    "# 3) write out the new FASTA\n",
    "SeqIO.write(records, out_fasta, \"fasta\")\n",
    "print(f\"Wrote {len(records)} records to {out_fasta}\")"
   ]
  },
  {
   "cell_type": "code",
   "execution_count": 2,
   "id": "7e3f721c-d542-41d0-babc-d22b037bcbb6",
   "metadata": {},
   "outputs": [
    {
     "name": "stdout",
     "output_type": "stream",
     "text": [
      "Wrote 28 records to ./Downloads/SLE_output/second_SLE_annotated.fa\n"
     ]
    }
   ],
   "source": [
    "\n",
    "import pandas as pd\n",
    "from Bio import SeqIO\n",
    "\n",
    "# 1) load your TSV into a dict\n",
    "tsv = pd.read_csv(\"./Downloads/SLE_output/Tree_from_Squirrel/SL_MPOX_Metadata_190725.csv\", sep=\",\", dtype=str)\n",
    "meta = {\n",
    "    row[\"Sample_ID\"]: (row[\"District\"], row[\"Country\"], row[\"Collection\"])\n",
    "    for _, row in tsv.iterrows()\n",
    "}\n",
    "\n",
    "# 2) read your input FASTA and update headers\n",
    "in_fasta  = \"./Downloads/SLE_output/second_allconsensus.fas\"\n",
    "out_fasta = \"./Downloads/SLE_output/second_SLE_annotated.fa\"\n",
    "\n",
    "records = []\n",
    "for rec in SeqIO.parse(in_fasta, \"fasta\"):\n",
    "    acc = rec.id.split(\"_\")[0]  # e.g. \"PP_002XKR1.1\"\n",
    "    if acc in meta:\n",
    "        District, Country, Collection = meta[acc]\n",
    "        # set description to just the three fields, pipe-separated\n",
    "        rec.description = f\"|{District}|{Country}|{Collection}\"\n",
    "    # else rec.description stays as it was (or blank)\n",
    "    records.append(rec)\n",
    "\n",
    "# 3) write out the new FASTA\n",
    "SeqIO.write(records, out_fasta, \"fasta\")\n",
    "print(f\"Wrote {len(records)} records to {out_fasta}\")"
   ]
  }
 ],
 "metadata": {
  "kernelspec": {
   "display_name": "Python 3 (ipykernel)",
   "language": "python",
   "name": "python3"
  },
  "language_info": {
   "codemirror_mode": {
    "name": "ipython",
    "version": 3
   },
   "file_extension": ".py",
   "mimetype": "text/x-python",
   "name": "python",
   "nbconvert_exporter": "python",
   "pygments_lexer": "ipython3",
   "version": "3.10.15"
  }
 },
 "nbformat": 4,
 "nbformat_minor": 5
}
